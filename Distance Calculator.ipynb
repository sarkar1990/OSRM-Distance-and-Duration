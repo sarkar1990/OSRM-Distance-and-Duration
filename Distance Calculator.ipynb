{
 "cells": [
  {
   "cell_type": "code",
   "execution_count": null,
   "id": "2e50f68c-361d-451f-8fc1-8abd2115d723",
   "metadata": {},
   "outputs": [],
   "source": [
    "pip install pandas openpyxl requests tqdm"
   ]
  },
  {
   "cell_type": "code",
   "execution_count": null,
   "id": "b0e7217a-a5e5-45e1-8b1e-4fa20cf6f8aa",
   "metadata": {},
   "outputs": [],
   "source": [
    "import pandas as pd\n",
    "import requests\n",
    "from tqdm import tqdm\n",
    "\n",
    "def get_route_info(source, destination):\n",
    "\n",
    "    base_url = \"https://router.project-osrm.org/route/v1/driving/\"\n",
    "    source_str = f\"{source[0]},{source[1]}\"\n",
    "    destination_str = f\"{destination[0]},{destination[1]}\"\n",
    "    \n",
    "    # Construct the full URL\n",
    "    url = f\"{base_url}{source_str};{destination_str}?overview=false\"\n",
    "    \n",
    "    try:\n",
    "        # Send GET request to OSRM API\n",
    "        response = requests.get(url)\n",
    "        response.raise_for_status()  # Raise HTTPError for bad responses\n",
    "        \n",
    "        # Parse JSON response\n",
    "        data = response.json()\n",
    "        \n",
    "        # Extract required details\n",
    "        if data.get(\"code\") == \"Ok\":\n",
    "            distance = data[\"routes\"][0][\"distance\"] / 1000  # Convert meters to kilometers\n",
    "            duration = data[\"routes\"][0][\"duration\"] / 3600  # Convert seconds to hours\n",
    "            return {\"distance\": distance, \"duration\": duration}\n",
    "        else:\n",
    "            raise ValueError(f\"Error in response: {data.get('code')}\")\n",
    "    except requests.exceptions.RequestException as e:\n",
    "        print(f\"Error: {e}\")\n",
    "        return None\n",
    "\n",
    "def process_coordinates(input_file, output_file):\n",
    "\n",
    "    # Read input data from Excel file\n",
    "    df = pd.read_excel(input_file)\n",
    "    \n",
    "    # Add new columns for distance and duration\n",
    "    df['distance'] = None\n",
    "    df['duration'] = None\n",
    "    \n",
    "    # Use tqdm to create a progress bar\n",
    "    for index, row in tqdm(df.iterrows(), total=len(df), desc=\"Processing rows\"):\n",
    "        source_coords = (row['source longitude'], row['source latitude'])\n",
    "        destination_coords = (row['destination longitude'], row['destination latitude'])\n",
    "        \n",
    "        # Fetch distance and duration\n",
    "        result = get_route_info(source_coords, destination_coords)\n",
    "        \n",
    "        if result:\n",
    "            df.at[index, 'distance'] = result['distance']  # in kilometers\n",
    "            df.at[index, 'duration'] = result['duration']  # in hours\n",
    "    \n",
    "    # Write the updated data to the output Excel file\n",
    "    df.to_excel(output_file, index=False)\n",
    "\n",
    "# Example usage\n",
    "input_file = 'coordinates.xlsx'  # Replace with your input Excel file path\n",
    "output_file = 'coordinates_with_results1.xlsx'  # Replace with your desired output file path\n",
    "\n",
    "process_coordinates(input_file, output_file)"
   ]
  }
 ],
 "metadata": {
  "kernelspec": {
   "display_name": "Python 3",
   "language": "python",
   "name": "python3"
  },
  "language_info": {
   "codemirror_mode": {
    "name": "ipython",
    "version": 3
   },
   "file_extension": ".py",
   "mimetype": "text/x-python",
   "name": "python",
   "nbconvert_exporter": "python",
   "pygments_lexer": "ipython3",
   "version": "3.10.10"
  }
 },
 "nbformat": 4,
 "nbformat_minor": 5
}
